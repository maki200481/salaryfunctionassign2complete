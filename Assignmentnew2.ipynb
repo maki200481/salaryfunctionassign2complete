{
 "cells": [
  {
   "cell_type": "markdown",
   "id": "52f233a3-c1fe-4aef-8050-a6aa60b77d6c",
   "metadata": {},
   "source": [
    "## 1. Import the provided salary data into your Jupyter Notebook."
   ]
  },
  {
   "cell_type": "code",
   "execution_count": 1,
   "id": "23ed235e-cc13-4193-8709-f50b5ae60feb",
   "metadata": {},
   "outputs": [
    {
     "name": "stdout",
     "output_type": "stream",
     "text": [
      "        EmployeeName                                        JobTitle  \\\n",
      "0     NATHANIEL FORD  GENERAL MANAGER-METROPOLITAN TRANSIT AUTHORITY   \n",
      "1       GARY JIMENEZ                 CAPTAIN III (POLICE DEPARTMENT)   \n",
      "2     ALBERT PARDINI                 CAPTAIN III (POLICE DEPARTMENT)   \n",
      "3  CHRISTOPHER CHONG            WIRE ROPE CABLE MAINTENANCE MECHANIC   \n",
      "4    PATRICK GARDNER    DEPUTY CHIEF OF DEPARTMENT,(FIRE DEPARTMENT)   \n",
      "\n",
      "     BasePay OvertimePay   OtherPay      Benefits   TotalPay  \\\n",
      "0  167411.18         0.0  400184.25  Not Provided  567595.43   \n",
      "1  155966.02   245131.88  137811.38  Not Provided  538909.28   \n",
      "2  212739.13   106088.18    16452.6  Not Provided  335279.91   \n",
      "3    77916.0    56120.71   198306.9  Not Provided  332343.61   \n",
      "4   134401.6      9737.0  182234.59  Not Provided  326373.19   \n",
      "\n",
      "   TotalPayBenefits  Year  \n",
      "0         567595.43  2011  \n",
      "1         538909.28  2011  \n",
      "2         335279.91  2011  \n",
      "3         332343.61  2011  \n",
      "4         326373.19  2011  \n"
     ]
    },
    {
     "name": "stderr",
     "output_type": "stream",
     "text": [
      "C:\\Users\\ekpiwhre nwamaka\\AppData\\Local\\Temp\\ipykernel_22236\\1890025304.py:6: DtypeWarning: Columns (2,3,4,5) have mixed types. Specify dtype option on import or set low_memory=False.\n",
      "  df = pd.read_csv(path)\n"
     ]
    }
   ],
   "source": [
    "#Declaring libraries\n",
    "import pandas as pd\n",
    "\n",
    "#Declaring the path\n",
    "path = r'C:\\Users\\ekpiwhre nwamaka\\Downloads\\Total.csv'\n",
    "df = pd.read_csv(path)\n",
    "\n",
    "#printing the first 5 records\n",
    "print(df.head(5))"
   ]
  },
  {
   "cell_type": "markdown",
   "id": "ef93af1a-d9c7-4a72-b745-4ed5199c7bbb",
   "metadata": {},
   "source": [
    "## 2. Develop a Python function that accepts an employee's name as input and returns their details."
   ]
  },
  {
   "cell_type": "code",
   "execution_count": 2,
   "id": "9872a32a-2400-4835-9f2e-1bbc5d681983",
   "metadata": {},
   "outputs": [],
   "source": [
    "#declaring the function \n",
    "def get_employee_details(name):\n",
    "    employee = df[df['EmployeeName'].str.upper() == name.upper()]\n",
    "    \n",
    "    if not employee.empty:\n",
    "        return employee.to_dict(orient='records')[0]\n",
    "    else:\n",
    "        return f\"Employee named {name} not found.\""
   ]
  },
  {
   "cell_type": "code",
   "execution_count": 3,
   "id": "cda9c43a-5402-442d-b22d-11920eb7c9a9",
   "metadata": {},
   "outputs": [
    {
     "name": "stdout",
     "output_type": "stream",
     "text": [
      "{'EmployeeName': 'GARY JIMENEZ', 'JobTitle': 'CAPTAIN III (POLICE DEPARTMENT)', 'BasePay': 155966.02, 'OvertimePay': 245131.88, 'OtherPay': 137811.38, 'Benefits': 'Not Provided', 'TotalPay': 538909.28, 'TotalPayBenefits': 538909.28, 'Year': 2011}\n"
     ]
    }
   ],
   "source": [
    "employee_name = \"GARY JIMENEZ\"\n",
    "employee_details = get_employee_details(employee_name)\n",
    "print(employee_details)"
   ]
  },
  {
   "cell_type": "markdown",
   "id": "d6be0f61-3e87-4441-89bf-545e53d575e1",
   "metadata": {},
   "source": [
    "## 3. Process the salary data using a Python dictionary."
   ]
  },
  {
   "cell_type": "code",
   "execution_count": 4,
   "id": "569fa7ce-b1b7-4b4c-b5d7-12342f3e7b76",
   "metadata": {},
   "outputs": [],
   "source": [
    "# Convert DataFrame to a dictionary with employee names as keys\n",
    "\n",
    "# Drop duplicates, keeping the first occurrence\n",
    "df = df.drop_duplicates(subset='EmployeeName', keep='first')\n",
    "employee_dict = df.set_index('EmployeeName').to_dict('index')"
   ]
  },
  {
   "cell_type": "code",
   "execution_count": 5,
   "id": "0cfc8fbe-5905-48cd-b24f-88bf426fd61d",
   "metadata": {},
   "outputs": [],
   "source": [
    "   # Calculate Total Payroll\n",
    "def calculate_total_payroll(employee_dict):\n",
    "    total_payroll = sum(employee['TotalPay'] for employee in employee_dict.values())\n",
    "    return total_payroll\n"
   ]
  },
  {
   "cell_type": "code",
   "execution_count": 6,
   "id": "7bf9ea55-5792-448d-bbb2-1ae268261294",
   "metadata": {},
   "outputs": [],
   "source": [
    "   # Calculate Highest Payroll\n",
    "def find_highest_paid(employee_dict):\n",
    "    return max(employee_dict.items(), key=lambda x: x[1]['TotalPay'])\n"
   ]
  },
  {
   "cell_type": "code",
   "execution_count": 7,
   "id": "10276300-659e-460f-b83c-da9c831151af",
   "metadata": {},
   "outputs": [],
   "source": [
    "   # Calculate Lowest Paid\n",
    "def find_lowest_paid(employee_dict):\n",
    "    return min(employee_dict.items(), key=lambda x: x[1]['TotalPay'])\n"
   ]
  },
  {
   "cell_type": "code",
   "execution_count": 8,
   "id": "d2c0765e-6bc5-4c6c-b5a0-34613752a5d5",
   "metadata": {},
   "outputs": [],
   "source": [
    "   # Calculate the average base Pay\n",
    "def calculate_average_base_pay(employee_dict):\n",
    "    # Initialize total base pay and count\n",
    "    total_base_pay = 0.0\n",
    "    count = 0\n",
    "    \n",
    "    # Iterate over each employee's data in the dictionary\n",
    "    for employee in employee_dict.values():\n",
    "        # Check if 'BasePay' exists and is not None\n",
    "        if 'BasePay' in employee and employee['BasePay'] is not None:\n",
    "            # Attempt to convert BasePay to float if it's not already\n",
    "            try:\n",
    "                base_pay = float(employee['BasePay'])\n",
    "                total_base_pay += base_pay\n",
    "                count += 1\n",
    "            except ValueError:\n",
    "                continue\n",
    "    \n",
    "    # Calculate average base pay if count is not zero to avoid division by zero\n",
    "    if count > 0:\n",
    "        average_base_pay = total_base_pay / count\n",
    "    else:\n",
    "        average_base_pay = 0  # Return 0 if no valid BasePay data exists\n",
    "\n",
    "    return average_base_pay\n"
   ]
  },
  {
   "cell_type": "code",
   "execution_count": 9,
   "id": "1d1dc8a9-4572-40d2-a10f-e40bf1344743",
   "metadata": {},
   "outputs": [
    {
     "name": "stdout",
     "output_type": "stream",
     "text": [
      "Total Payroll: 8832009546.17\n",
      "Highest Paid Employee: Paulo Morgado with 592394.34\n",
      "Lowest Paid Employee: Joe Lopez with -618.13\n",
      "Average Base Pay: 60493.09\n"
     ]
    }
   ],
   "source": [
    "# executing and printing results\n",
    "\n",
    "# Calculate total payroll\n",
    "total_payroll = calculate_total_payroll(employee_dict)\n",
    "print(f\"Total Payroll: {total_payroll:.2f}\")\n",
    "\n",
    "# Find the highest and lowest paid employees\n",
    "highest_paid = find_highest_paid(employee_dict)\n",
    "lowest_paid = find_lowest_paid(employee_dict)\n",
    "print(f\"Highest Paid Employee: {highest_paid[0]} with {highest_paid[1]['TotalPay']:.2f}\")\n",
    "print(f\"Lowest Paid Employee: {lowest_paid[0]} with {lowest_paid[1]['TotalPay']:.2f}\")\n",
    "\n",
    "# Calculate average base pay\n",
    "average_base_pay = calculate_average_base_pay(employee_dict)\n",
    "print(f\"Average Base Pay: {average_base_pay:.2f}\")\n"
   ]
  },
  {
   "cell_type": "markdown",
   "id": "35504e00-41d4-4eb7-9eda-c99948c4c321",
   "metadata": {},
   "source": [
    "## 4. Implement error handling in your code to address potential issues gracefully."
   ]
  },
  {
   "cell_type": "code",
   "execution_count": 10,
   "id": "867964ee-2663-4d48-b959-811686ebe173",
   "metadata": {},
   "outputs": [],
   "source": [
    "# error handling for data opertion\n",
    "try:\n",
    "    employee_dict = df.set_index('EmployeeName').T.to_dict('dict')\n",
    "except Exception as e:\n",
    "    print(f\"Error processing data: {e}\")\n"
   ]
  },
  {
   "cell_type": "markdown",
   "id": "680a4769-c162-4ac8-8182-3110fc075170",
   "metadata": {},
   "source": [
    "## 5. Export an employee's details to a CSV file and save it within a zipped folder named \"Employee Profile.\""
   ]
  },
  {
   "cell_type": "code",
   "execution_count": 11,
   "id": "6836b1f3-5b2e-4589-9248-2c480026c914",
   "metadata": {},
   "outputs": [],
   "source": [
    "import zipfile\n",
    "\n",
    "def export_employee_details(name):\n",
    "    try:\n",
    "        details = get_employee_details(name)\n",
    "        if isinstance(details, dict):\n",
    "\n",
    "            # Convert dictionary to DataFrame for exporting\n",
    "            details_df = pd.DataFrame([details])\n",
    "            \n",
    "            # Set the path for saving the CSV\n",
    "            csv_file_path = f'C:\\\\Users\\\\ekpiwhre nwamaka\\\\Downloads\\\\{name}.csv'\n",
    "            zip_file_path = f'C:\\\\Users\\\\ekpiwhre nwamaka\\\\Downloads\\\\Employee_Profile.zip'\n",
    "\n",
    "            # Save to CSV\n",
    "            details_df.to_csv(csv_file_path, index=False)\n",
    "            \n",
    "            # Zip the file\n",
    "            with zipfile.ZipFile(zip_file_path, 'w', zipfile.ZIP_DEFLATED) as z:\n",
    "                z.write(csv_file_path, arcname=f'{name}.csv')\n",
    "            \n",
    "            print(f\"Profile exported and zipped successfully for {name}.\")\n",
    "        else:\n",
    "            print(details)\n",
    "    except Exception as e:\n",
    "        print(f\"Failed to export employee details: {e}\")\n"
   ]
  },
  {
   "cell_type": "code",
   "execution_count": 12,
   "id": "03271e1a-0450-45c5-b4cd-0c7ff4ed4f0e",
   "metadata": {},
   "outputs": [
    {
     "name": "stdout",
     "output_type": "stream",
     "text": [
      "Profile exported and zipped successfully for CHRISTOPHER CHONG.\n"
     ]
    }
   ],
   "source": [
    "export_employee_details('CHRISTOPHER CHONG')\n"
   ]
  }
 ],
 "metadata": {
  "kernelspec": {
   "display_name": "Python 3 (ipykernel)",
   "language": "python",
   "name": "python3"
  },
  "language_info": {
   "codemirror_mode": {
    "name": "ipython",
    "version": 3
   },
   "file_extension": ".py",
   "mimetype": "text/x-python",
   "name": "python",
   "nbconvert_exporter": "python",
   "pygments_lexer": "ipython3",
   "version": "3.11.7"
  }
 },
 "nbformat": 4,
 "nbformat_minor": 5
}
